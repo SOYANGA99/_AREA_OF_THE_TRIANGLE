{
 "cells": [
  {
   "cell_type": "code",
   "execution_count": 4,
   "id": "e8b29552",
   "metadata": {},
   "outputs": [
    {
     "name": "stdout",
     "output_type": "stream",
     "text": [
      "Enter a no:-4\n",
      "Enter a no:-5\n",
      "Enter a no:-6\n",
      "Area of the Triangle:- 9.921567416492215\n"
     ]
    }
   ],
   "source": [
    "l=float(input(\"Enter a no:-\"))\n",
    "b=float(input(\"Enter a no:-\"))\n",
    "h=float(input(\"Enter a no:-\"))\n",
    "s=(l+b+h)/2\n",
    "area=(s*(s-l)*(s-b)*(s-h))**0.5  \n",
    "print(\"Area of the Triangle:-\",area)"
   ]
  },
  {
   "cell_type": "code",
   "execution_count": 3,
   "id": "6e02f9ac",
   "metadata": {},
   "outputs": [
    {
     "name": "stdout",
     "output_type": "stream",
     "text": [
      "Enter a no:-4\n",
      "Enter a no:-5\n",
      "Enter a no:-6\n",
      "Area of the Triangle:- 9.921567416492215\n"
     ]
    }
   ],
   "source": [
    "import math\n",
    "l=float(input(\"Enter a no:-\"))\n",
    "b=float(input(\"Enter a no:-\"))\n",
    "h=float(input(\"Enter a no:-\"))\n",
    "s=(l+b+h)/2\n",
    "area=math.sqrt(s*(s-l)*(s-b)*(s-h)) \n",
    "print(\"Area of the Triangle:-\",area)"
   ]
  },
  {
   "cell_type": "code",
   "execution_count": null,
   "id": "c9da23ec",
   "metadata": {},
   "outputs": [],
   "source": []
  }
 ],
 "metadata": {
  "kernelspec": {
   "display_name": "Python 3 (ipykernel)",
   "language": "python",
   "name": "python3"
  },
  "language_info": {
   "codemirror_mode": {
    "name": "ipython",
    "version": 3
   },
   "file_extension": ".py",
   "mimetype": "text/x-python",
   "name": "python",
   "nbconvert_exporter": "python",
   "pygments_lexer": "ipython3",
   "version": "3.9.7"
  }
 },
 "nbformat": 4,
 "nbformat_minor": 5
}
